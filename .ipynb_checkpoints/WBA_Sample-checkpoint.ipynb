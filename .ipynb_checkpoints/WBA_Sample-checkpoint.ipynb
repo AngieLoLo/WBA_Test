{
 "cells": [
  {
   "cell_type": "code",
   "execution_count": 1,
   "id": "80ae87dd-b443-4328-95ac-d6082890b121",
   "metadata": {},
   "outputs": [],
   "source": [
    "def cal(a,b):\n",
    "    c=a+b\n",
    "    return c"
   ]
  },
  {
   "cell_type": "code",
   "execution_count": 3,
   "id": "b5088c59-d182-45f2-84ac-837a855795ba",
   "metadata": {},
   "outputs": [
    {
     "data": {
      "text/plain": [
       "8"
      ]
     },
     "execution_count": 3,
     "metadata": {},
     "output_type": "execute_result"
    }
   ],
   "source": [
    "cal(3,5)"
   ]
  },
  {
   "cell_type": "code",
   "execution_count": null,
   "id": "14ddf223-d1f7-43ad-9365-89d57334a347",
   "metadata": {},
   "outputs": [],
   "source": []
  }
 ],
 "metadata": {
  "kernelspec": {
   "display_name": "Python [conda env:base] *",
   "language": "python",
   "name": "conda-base-py"
  },
  "language_info": {
   "codemirror_mode": {
    "name": "ipython",
    "version": 3
   },
   "file_extension": ".py",
   "mimetype": "text/x-python",
   "name": "python",
   "nbconvert_exporter": "python",
   "pygments_lexer": "ipython3",
   "version": "3.12.7"
  }
 },
 "nbformat": 4,
 "nbformat_minor": 5
}
